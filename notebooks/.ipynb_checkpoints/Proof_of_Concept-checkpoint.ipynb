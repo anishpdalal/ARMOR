{
 "cells": [
  {
   "cell_type": "code",
   "execution_count": null,
   "metadata": {},
   "outputs": [],
   "source": [
    "import scispacy\n",
    "import spacy"
   ]
  },
  {
   "cell_type": "markdown",
   "metadata": {},
   "source": [
    "### Load a full spaCy pipeline for biomedical data with a larger vocabulary and word vectors."
   ]
  },
  {
   "cell_type": "code",
   "execution_count": null,
   "metadata": {},
   "outputs": [],
   "source": [
    "#!pip install https://s3-us-west-2.amazonaws.com/ai2-s2-scispacy/releases/v0.1.0/en_core_sci_md-0.1.0.tar.gz"
   ]
  },
  {
   "cell_type": "code",
   "execution_count": null,
   "metadata": {},
   "outputs": [],
   "source": [
    "nlp = spacy.load(\"en_core_sci_md\")\n",
    "text = \"\"\"\n",
    "DIAGNOSES: \n",
    "\n",
    "1.        Mitral valve disease, status post mitral valve replacement with a St. Jude prosthetic valve XXXX and coronary artery bypass X 1 done at XXXX Hospital. \n",
    "\n",
    "2.        History of 2 previous cerebrovascular accidents secondary to embolic disorder from inadequate anticoagulation. \n",
    "\n",
    "3.       Atrial fibrillation, on Coumadin with INR 3.1 on XXXX. \n",
    "\n",
    "4.        Possible transient ischemic attack, yesterday, with right arm weakness and numbness. \n",
    "\"\"\"\n",
    "doc = nlp(text)"
   ]
  },
  {
   "cell_type": "code",
   "execution_count": 4,
   "metadata": {},
   "outputs": [
    {
     "name": "stdout",
     "output_type": "stream",
     "text": [
      "[\n",
      "DIAGNOSES: \n",
      "\n",
      "1.        , Mitral valve disease, status post mitral valve replacement with a St. Jude prosthetic valve XXXX and coronary artery bypass X 1 done at XXXX Hospital. \n",
      "\n",
      ", 2.        , History of 2 previous cerebrovascular accidents secondary to embolic disorder from inadequate anticoagulation. \n",
      "\n",
      ", 3.       , Atrial fibrillation, on Coumadin with INR 3.1 on XXXX. \n",
      "\n",
      ", 4.        , Possible transient ischemic attack, yesterday, with right arm weakness and numbness. \n",
      "]\n"
     ]
    }
   ],
   "source": [
    "print(list(doc.sents))"
   ]
  },
  {
   "cell_type": "code",
   "execution_count": 5,
   "metadata": {},
   "outputs": [
    {
     "name": "stdout",
     "output_type": "stream",
     "text": [
      "\n",
      "\n",
      "DIAGNOSES\n",
      "       \n",
      "Mitral valve disease\n",
      "status post mitral valve replacement\n",
      "St. Jude prosthetic valve XXXX\n",
      "coronary artery bypass X 1\n",
      "XXXX\n",
      "       \n",
      "cerebrovascular accidents\n",
      "secondary to\n",
      "embolic disorder\n",
      "inadequate\n",
      "anticoagulation\n",
      "Coumadin\n",
      "INR\n",
      "XXXX\n",
      "       \n",
      "transient ischemic attack\n",
      "yesterday\n",
      "right arm weakness\n",
      "numbness\n",
      "\n",
      "\n"
     ]
    }
   ],
   "source": [
    "for e in doc.ents:\n",
    "    print(e)"
   ]
  },
  {
   "cell_type": "markdown",
   "metadata": {},
   "source": [
    "### Load a sciSpacy model trained on BC5CDR corpus. Provides labels for disease and drugs entities"
   ]
  },
  {
   "cell_type": "code",
   "execution_count": 6,
   "metadata": {},
   "outputs": [],
   "source": [
    "#!pip install https://s3-us-west-2.amazonaws.com/ai2-s2-scispacy/releases/v0.1.0/en_ner_bc5cdr_md-0.1.0.tar.gz"
   ]
  },
  {
   "cell_type": "code",
   "execution_count": 7,
   "metadata": {},
   "outputs": [],
   "source": [
    "nlp2 = spacy.load(\"en_ner_bc5cdr_md\")\n",
    "text = \"\"\"\n",
    "DIAGNOSES: \n",
    "\n",
    "1.        Mitral valve disease, status post mitral valve replacement with a St. Jude prosthetic valve XXXX and coronary artery bypass X 1 done at XXXX Hospital. \n",
    "\n",
    "2.        History of 2 previous cerebrovascular accidents secondary to embolic disorder from inadequate anticoagulation. \n",
    "\n",
    "3.       Atrial fibrillation, on Coumadin with INR 3.1 on XXXX. \n",
    "\n",
    "4.        Possible transient ischemic attack, yesterday, with right arm weakness and numbness. \n",
    "\"\"\"\n",
    "doc2 = nlp2(text)"
   ]
  },
  {
   "cell_type": "code",
   "execution_count": 8,
   "metadata": {},
   "outputs": [
    {
     "name": "stdout",
     "output_type": "stream",
     "text": [
      "Mitral valve disease DISEASE\n",
      "coronary artery bypass X DISEASE\n",
      "XXXX DISEASE\n",
      "cerebrovascular accidents DISEASE\n",
      "embolic disorder DISEASE\n",
      "Atrial fibrillation DISEASE\n",
      "Coumadin CHEMICAL\n",
      "yesterday DISEASE\n",
      "right arm weakness DISEASE\n",
      "numbness DISEASE\n"
     ]
    }
   ],
   "source": [
    "for e in doc2.ents:\n",
    "    print(e, e.label_)"
   ]
  },
  {
   "cell_type": "markdown",
   "metadata": {},
   "source": [
    "## Allscripts EMR Sections \n",
    "1. Reason for Visit/ Chief Complaint (Symptoms and Complaints)\n",
    "2. History of Present Illness or Narrative\n",
    "3. Active Problems - All Diagnosis\n",
    "4. Past Medical History\n",
    "5. Surgical History\n",
    "6. Social History\n",
    "7. Family History\n",
    "8. Current Medications - created by prescribing\n",
    "    - Pharmacy, dosage taken by patient, duration, name of mediciation, link to active problems\n",
    "9. Review of Systems - Organ Systems\n",
    "10. Vitals\n",
    "11. Physical Exam\n",
    "12. Assessment Narrative\n",
    "13. Plan Narrative\n",
    "    - Look at Silver Scripts or Universal Pharmacopia - list of all medications "
   ]
  },
  {
   "cell_type": "markdown",
   "metadata": {},
   "source": [
    "### Reason for Visit"
   ]
  },
  {
   "cell_type": "markdown",
   "metadata": {},
   "source": [
    "![title](../images/Reason_for_Visit.PNG)"
   ]
  },
  {
   "cell_type": "markdown",
   "metadata": {},
   "source": [
    "### History of Present Illness / Narrative"
   ]
  },
  {
   "cell_type": "markdown",
   "metadata": {},
   "source": [
    "This is free text apparently"
   ]
  },
  {
   "cell_type": "markdown",
   "metadata": {},
   "source": [
    "### Active Problems"
   ]
  },
  {
   "cell_type": "markdown",
   "metadata": {},
   "source": [
    "![title](../images/Active_Problems.PNG)"
   ]
  },
  {
   "cell_type": "markdown",
   "metadata": {},
   "source": [
    "### Medical History/Surgical History/Family History"
   ]
  },
  {
   "cell_type": "markdown",
   "metadata": {},
   "source": [
    "![title](../images/Social_History.PNG)"
   ]
  },
  {
   "cell_type": "markdown",
   "metadata": {},
   "source": [
    "### Current Medications"
   ]
  },
  {
   "cell_type": "markdown",
   "metadata": {},
   "source": [
    "![title](../images/Current_Meds.PNG)"
   ]
  },
  {
   "cell_type": "markdown",
   "metadata": {},
   "source": [
    "## Review of Systems"
   ]
  },
  {
   "cell_type": "markdown",
   "metadata": {},
   "source": [
    "![title](../images/Review_of_Systems.PNG)"
   ]
  },
  {
   "cell_type": "markdown",
   "metadata": {},
   "source": [
    "## Physical Exam"
   ]
  },
  {
   "cell_type": "markdown",
   "metadata": {},
   "source": [
    "![title](../images/Physical_Exam.PNG)"
   ]
  },
  {
   "cell_type": "markdown",
   "metadata": {},
   "source": [
    "## Scraping Medical Transcriptions"
   ]
  },
  {
   "cell_type": "code",
   "execution_count": 9,
   "metadata": {},
   "outputs": [],
   "source": [
    "from bs4 import BeautifulSoup\n",
    "import requests"
   ]
  },
  {
   "cell_type": "code",
   "execution_count": 10,
   "metadata": {},
   "outputs": [],
   "source": [
    "page_link = 'http://www.medicaltranscriptionsamples.com/abnormal-echocardiogram/'"
   ]
  },
  {
   "cell_type": "code",
   "execution_count": 11,
   "metadata": {},
   "outputs": [],
   "source": [
    "page_response = requests.get(page_link, timeout=5)"
   ]
  },
  {
   "cell_type": "code",
   "execution_count": 12,
   "metadata": {},
   "outputs": [],
   "source": [
    "page_content = BeautifulSoup(page_response.content, \"html.parser\")"
   ]
  },
  {
   "cell_type": "code",
   "execution_count": 13,
   "metadata": {},
   "outputs": [],
   "source": [
    "text_content = []\n",
    "for i in range(0, 20):\n",
    "    paragraphs = page_content.find_all(\"p\")[i].text\n",
    "    text_content.append(paragraphs)"
   ]
  },
  {
   "cell_type": "code",
   "execution_count": 14,
   "metadata": {},
   "outputs": [
    {
     "data": {
      "text/plain": [
       "['REASON FOR CONSULTATION:  Abnormal echocardiogram findings and followup.  Shortness of breath, congestive heart failure, and valvular insufficiency.',\n",
       " 'HISTORY OF PRESENT ILLNESS:  The patient is an 86-year-old female admitted for evaluation of abdominal pain and bloody stools.  The patient has colitis and also diverticulitis, undergoing treatment.  During the hospitalization, the patient complains of shortness of breath, which is worsening.  The patient underwent an echocardiogram, which shows severe mitral regurgitation and also large pleural effusion.  This consultation is for further evaluation in this regard.  As per the patient, she is an 86-year-old female, has limited activity level.  She has been having shortness of breath for many years.  She also was told that she has a heart murmur, which was not followed through on a regular basis.',\n",
       " 'CORONARY RISK FACTORS:  History of hypertension, no history of diabetes mellitus, nonsmoker, cholesterol status unclear, no prior history of coronary artery disease, and family history noncontributory.',\n",
       " 'FAMILY HISTORY:  Nonsignificant.',\n",
       " 'PAST SURGICAL HISTORY:  No major surgery.',\n",
       " 'MEDICATIONS:  Presently on Lasix, potassium supplementation, Levaquin, hydralazine 10 mg b.i.d., antibiotic treatments, and thyroid supplementation.',\n",
       " 'ALLERGIES:  AMBIEN, CARDIZEM, AND IBUPROFEN.',\n",
       " 'PERSONAL HISTORY:  She is a nonsmoker.  Does not consume alcohol.  No history of recreational drug use.',\n",
       " 'PAST MEDICAL HISTORY:  Basically GI pathology with diverticulitis, colitis, hypothyroidism, arthritis, questionable hypertension, no prior history of coronary artery disease, and heart murmur.',\n",
       " 'REVIEW OF SYSTEMSCONSTITUTIONAL:  Weakness, fatigue, and tiredness.HEENT:  History of cataract, blurred vision, and hearing impairment.CARDIOVASCULAR:  Shortness of breath and heart murmur.  No coronary artery disease.RESPIRATORY:  Shortness of breath.  No pneumonia or valley fever.GASTROINTESTINAL:  No nausea, vomiting, hematemesis, or melena.UROLOGICAL:  No frequency or urgency.MUSCULOSKELETAL:  Arthritis and severe muscle weakness.SKIN:  Nonsignificant.NEUROLOGICAL:  No TIA or CVA.  No seizure disorder.ENDOCRINE/HEMATOLOGICAL:  As above.',\n",
       " 'PHYSICAL EXAMINATIONVITAL SIGNS:  Pulse of 84, blood pressure of 168/74, afebrile, and respiratory rate 16 per minute.HEENT/NECK:  Head is atraumatic and normocephalic.  Neck veins flat.  No significant carotid bruits appreciated.LUNGS:  Air entry bilaterally fair.  No obvious rales or wheezes.HEART:  PMI displaced.  S1, S2 with systolic murmur at the precordium, grade 2/6.ABDOMEN:  Soft and nontender.EXTREMITIES:  Chronic skin changes.  Feeble pulses distally.  No clubbing or cyanosis.',\n",
       " 'DIAGNOSTIC DATA:  EKG:  Normal sinus rhythm.  No acute ST-T changes.',\n",
       " 'Echocardiogram report was reviewed.',\n",
       " 'LABORATORY DATA:  H&H 13 and 39.  BUN and creatinine within normal limits.  Potassium within normal limits.  BNP 9290.',\n",
       " 'IMPRESSION:1.  The patient admitted for gastrointestinal pathology, under working treatment.2.  History of prior heart murmur with echocardiogram findings as above.  Basically revealed normal left ventricular function with left atrial enlargement, large pleural effusion, and severe mitral regurgitation and tricuspid regurgitation.',\n",
       " 'RECOMMENDATIONS:1.  From cardiac standpoint, conservative treatment.  Possibility of a transesophageal echocardiogram to assess valvular insufficiency adequately well discussed extensively.2.  After extensive discussion, given her age 86, limited activity level, and no intention of undergoing any treatment in this regard from a surgical standpoint, the patient does not wish to proceed with a transesophageal echocardiogram.3.  Based on the above findings, we will treat her medically with ACE inhibitors and diuretics and see how she fares.  She has a normal LV function.',\n",
       " '\\nBe the first to comment - What do you think? \\n                                            \\n                    Posted by                        MTHelpLine.com                                                 - \\n                        August 21, 2010 at  12:00 am                                        ',\n",
       " 'Categories:\\n                            Cardiovascular / Pulmonary, Consult - History and Phy.                        \\xa0Tags:\\n                            Abnormal Echocardiogram, adenosine, artery, asthma, bronchoscopy, bypass, cardiac, cardiology, cardiovascular, carotid, catheterization, Consultation, coronary, coronary artery disease, echocardiogram, EKG, H&P, heart, heart murmur, HEENT, history and physical, initial visit, lung, mitral regurgitation, pacemaker, physical exam, pleural effusion, Pulmonary, pulmonology, review of systems, shortness of breath, stress, valvular insufficiency ',\n",
       " 'Comment ',\n",
       " 'Name * ']"
      ]
     },
     "execution_count": 14,
     "metadata": {},
     "output_type": "execute_result"
    }
   ],
   "source": [
    "text_content"
   ]
  },
  {
   "cell_type": "markdown",
   "metadata": {},
   "source": [
    "## Speech-to-Text "
   ]
  },
  {
   "cell_type": "markdown",
   "metadata": {},
   "source": [
    "Tutorials\n",
    "\n",
    "https://www.alexkras.com/transcribing-audio-file-to-text-with-google-cloud-speech-api-and-python/\n",
    "\n",
    "https://medium.com/@rahulvaish/speech-to-text-python-77b510f06de\n",
    "\n",
    "https://realpython.com/python-speech-recognition/"
   ]
  }
 ],
 "metadata": {
  "kernelspec": {
   "display_name": "Python 3",
   "language": "python",
   "name": "python3"
  },
  "language_info": {
   "codemirror_mode": {
    "name": "ipython",
    "version": 3
   },
   "file_extension": ".py",
   "mimetype": "text/x-python",
   "name": "python",
   "nbconvert_exporter": "python",
   "pygments_lexer": "ipython3",
   "version": "3.7.2"
  }
 },
 "nbformat": 4,
 "nbformat_minor": 2
}
