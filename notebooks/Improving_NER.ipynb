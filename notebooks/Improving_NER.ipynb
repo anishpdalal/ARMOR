{
 "cells": [
  {
   "cell_type": "code",
   "execution_count": 1,
   "metadata": {},
   "outputs": [],
   "source": [
    "import random\n",
    "import scispacy\n",
    "import spacy\n",
    "from spacy.util import minibatch, compounding"
   ]
  },
  {
   "cell_type": "code",
   "execution_count": 3,
   "metadata": {},
   "outputs": [],
   "source": [
    "sci_md = spacy.load(\"en_core_sci_md\")\n",
    "bc5cdr_md = spacy.load(\"en_ner_bc5cdr_md\")"
   ]
  },
  {
   "cell_type": "markdown",
   "metadata": {},
   "source": [
    "### Abnormal Echocardiogram Test Case"
   ]
  },
  {
   "cell_type": "code",
   "execution_count": 85,
   "metadata": {},
   "outputs": [],
   "source": [
    "disease_example = \"Abnormal echocardiogram findings and followup. Shortness of breath, congestive heart failure, and valvular insufficiency.\""
   ]
  },
  {
   "cell_type": "code",
   "execution_count": 86,
   "metadata": {},
   "outputs": [],
   "source": [
    "drug_example = \"Aspirin 325 mg once a day. Metoprolol 50 mg once a day, but we have had to hold it because of relative bradycardia which he apparently has a history of. Nexium 40 mg once a day. Zocor 40 mg once a day, and there is a fasting lipid profile pending at the time of this dictation. I see that his LDL was 136 on May 3, 2002. Plavix 600 mg p.o. x1 which I am giving him tonight\""
   ]
  },
  {
   "cell_type": "markdown",
   "metadata": {},
   "source": [
    "#### Sci_md NER "
   ]
  },
  {
   "cell_type": "code",
   "execution_count": 87,
   "metadata": {},
   "outputs": [
    {
     "name": "stdout",
     "output_type": "stream",
     "text": [
      "Abnormal\n",
      "echocardiogram\n",
      "findings\n",
      "followup\n",
      "Shortness of breath\n",
      "congestive heart failure\n",
      "valvular insufficiency\n"
     ]
    }
   ],
   "source": [
    "for e in sci_md(disease_example).ents:\n",
    "    print(e)"
   ]
  },
  {
   "cell_type": "code",
   "execution_count": 88,
   "metadata": {},
   "outputs": [
    {
     "name": "stdout",
     "output_type": "stream",
     "text": [
      "Aspirin\n",
      "day\n",
      "Metoprolol\n",
      "day\n",
      "relative bradycardia\n",
      "history of\n",
      "Nexium\n",
      "day\n",
      "Zocor\n",
      "day\n",
      "fasting\n",
      "lipid profile\n",
      "dictation\n",
      "LDL\n",
      "Plavix\n",
      "x1\n"
     ]
    }
   ],
   "source": [
    "for e in sci_md(drug_example).ents:\n",
    "    print(e)"
   ]
  },
  {
   "cell_type": "markdown",
   "metadata": {},
   "source": [
    "#### bc5cdr_md NER"
   ]
  },
  {
   "cell_type": "code",
   "execution_count": 41,
   "metadata": {},
   "outputs": [
    {
     "name": "stdout",
     "output_type": "stream",
     "text": [
      "Entity: Shortness of breath, Type: DISEASE\n",
      "Entity: congestive heart failure, Type: DISEASE\n",
      "Entity: valvular insufficiency, Type: DISEASE\n"
     ]
    }
   ],
   "source": [
    "for e in bc5cdr_md(ex).ents:\n",
    "    print(f\"Entity: {e}, Type: {e.label_}\")"
   ]
  },
  {
   "cell_type": "code",
   "execution_count": 42,
   "metadata": {},
   "outputs": [
    {
     "name": "stdout",
     "output_type": "stream",
     "text": [
      "Entity: Aspirin, Type: CHEMICAL\n",
      "Entity: Metoprolol, Type: CHEMICAL\n",
      "Entity: bradycardia, Type: DISEASE\n",
      "Entity: p.o, Type: CHEMICAL\n"
     ]
    }
   ],
   "source": [
    "for e in bc5cdr_md(drug_example).ents:\n",
    "    print(f\"Entity: {e}, Type: {e.label_}\")"
   ]
  },
  {
   "cell_type": "markdown",
   "metadata": {},
   "source": [
    "### Fixing Errors"
   ]
  },
  {
   "cell_type": "code",
   "execution_count": 93,
   "metadata": {},
   "outputs": [],
   "source": [
    "TRAIN_DATA = [\n",
    "    (\"Nexium 40 mg once a day.\", {\"entities\": [(0, 6, \"CHEMICAL\")]}),\n",
    "    (\"Zocor 40 mg once a day, and there is a fasting lipid profile pending at the time of this dictation. I see that his LDL was 136 on May 3, 2002.\", {\"entities\": [(0, 5, \"CHEMICAL\")]}),\n",
    "    (\"Plavix 600 mg p.o. x1 which I am giving him tonight.\", {\"entities\": [(0, 6, \"CHEMICAL\")]}),\n",
    "    (\"Abnormal echocardiogram findings and followup,\", {\"entities\": [(0, 23, \"DISEASE\")]})\n",
    "]"
   ]
  },
  {
   "cell_type": "code",
   "execution_count": 94,
   "metadata": {},
   "outputs": [],
   "source": [
    "def train(model=None, output_dir=None, n_iter=100):\n",
    "    \"\"\"Load the model, set up the pipeline and train the entity recognizer.\"\"\"\n",
    "    if model is not None:\n",
    "        nlp = spacy.load(model)  # load existing spaCy model\n",
    "        print(\"Loaded model '%s'\" % model)\n",
    "    else:\n",
    "        nlp = spacy.blank(\"en\")  # create blank Language class\n",
    "        print(\"Created blank 'en' model\")\n",
    "\n",
    "    # create the built-in pipeline components and add them to the pipeline\n",
    "    # nlp.create_pipe works for built-ins that are registered with spaCy\n",
    "    if \"ner\" not in nlp.pipe_names:\n",
    "        ner = nlp.create_pipe(\"ner\")\n",
    "        nlp.add_pipe(ner, last=True)\n",
    "    # otherwise, get it so we can add labels\n",
    "    else:\n",
    "        ner = nlp.get_pipe(\"ner\")\n",
    "\n",
    "    # add labels\n",
    "    for _, annotations in TRAIN_DATA:\n",
    "        for ent in annotations.get(\"entities\"):\n",
    "            ner.add_label(ent[2])\n",
    "\n",
    "    # get names of other pipes to disable them during training\n",
    "    other_pipes = [pipe for pipe in nlp.pipe_names if pipe != \"ner\"]\n",
    "    with nlp.disable_pipes(*other_pipes):  # only train NER\n",
    "        # reset and initialize the weights randomly – but only if we're\n",
    "        # training a new model\n",
    "        if model is None:\n",
    "            nlp.begin_training()\n",
    "        for itn in range(n_iter):\n",
    "            random.shuffle(TRAIN_DATA)\n",
    "            losses = {}\n",
    "            # batch up the examples using spaCy's minibatch\n",
    "            batches = minibatch(TRAIN_DATA, size=compounding(4.0, 32.0, 1.001))\n",
    "            for batch in batches:\n",
    "                texts, annotations = zip(*batch)\n",
    "                nlp.update(\n",
    "                    texts,  # batch of texts\n",
    "                    annotations,  # batch of annotations\n",
    "                    drop=0.5,  # dropout - make it harder to memorise data\n",
    "                    losses=losses,\n",
    "                )\n",
    "            print(\"Losses\", losses)\n",
    "\n",
    "    # test the trained model\n",
    "    for text, _ in TRAIN_DATA:\n",
    "        doc = nlp(text)\n",
    "        print(\"Entities\", [(ent.text, ent.label_) for ent in doc.ents])\n",
    "    return nlp"
   ]
  },
  {
   "cell_type": "code",
   "execution_count": 96,
   "metadata": {},
   "outputs": [
    {
     "name": "stdout",
     "output_type": "stream",
     "text": [
      "Loaded model 'en_ner_bc5cdr_md'\n",
      "Losses {'ner': 0.8454384974620552}\n",
      "Losses {'ner': 0.385314792574988}\n",
      "Losses {'ner': 0.5399651919922519}\n",
      "Losses {'ner': 0.2570128394477251}\n",
      "Losses {'ner': 0.378256326586893}\n",
      "Losses {'ner': 0.3586510879928171}\n",
      "Losses {'ner': 0.38361437361693973}\n",
      "Losses {'ner': 0.191253353307701}\n",
      "Losses {'ner': 0.13965390297429892}\n",
      "Losses {'ner': 0.12434880842778817}\n",
      "Losses {'ner': 0.10790991698104335}\n",
      "Losses {'ner': 0.08566965487705147}\n",
      "Losses {'ner': 0.0003826016052426162}\n",
      "Losses {'ner': 0.1224545607597527}\n",
      "Losses {'ner': 0.032198435193041997}\n",
      "Losses {'ner': 0.0008169388996828175}\n",
      "Losses {'ner': 1.6264684910838323e-05}\n",
      "Losses {'ner': 0.002110830625653601}\n",
      "Losses {'ner': 2.6197402835548657e-05}\n",
      "Losses {'ner': 0.03530177439518655}\n",
      "Entities [('Plavix', 'CHEMICAL')]\n",
      "Entities [('Abnormal echocardiogram', 'DISEASE')]\n",
      "Entities [('Nexium', 'CHEMICAL')]\n",
      "Entities [('Zocor', 'CHEMICAL')]\n"
     ]
    }
   ],
   "source": [
    "bc5cdr_md_trained = train(\"en_ner_bc5cdr_md\", n_iter=20)"
   ]
  },
  {
   "cell_type": "code",
   "execution_count": 97,
   "metadata": {},
   "outputs": [
    {
     "name": "stdout",
     "output_type": "stream",
     "text": [
      "Entity: Aspirin, Type: CHEMICAL\n",
      "Entity: Metoprolol, Type: CHEMICAL\n",
      "Entity: bradycardia, Type: DISEASE\n",
      "Entity: Nexium, Type: CHEMICAL\n",
      "Entity: Zocor, Type: CHEMICAL\n",
      "Entity: Plavix, Type: CHEMICAL\n"
     ]
    }
   ],
   "source": [
    "for e in bc5cdr_md_trained(drug_example).ents:\n",
    "    print(f\"Entity: {e}, Type: {e.label_}\")"
   ]
  },
  {
   "cell_type": "code",
   "execution_count": 98,
   "metadata": {},
   "outputs": [
    {
     "name": "stdout",
     "output_type": "stream",
     "text": [
      "Entity: Abnormal echocardiogram, Type: DISEASE\n",
      "Entity: Shortness of breath, Type: DISEASE\n",
      "Entity: congestive heart failure, Type: DISEASE\n",
      "Entity: valvular insufficiency, Type: DISEASE\n"
     ]
    }
   ],
   "source": [
    "for e in bc5cdr_md_trained(disease_example).ents:\n",
    "    print(f\"Entity: {e}, Type: {e.label_}\")"
   ]
  },
  {
   "cell_type": "code",
   "execution_count": null,
   "metadata": {},
   "outputs": [],
   "source": []
  }
 ],
 "metadata": {
  "kernelspec": {
   "display_name": "Python 3",
   "language": "python",
   "name": "python3"
  },
  "language_info": {
   "codemirror_mode": {
    "name": "ipython",
    "version": 3
   },
   "file_extension": ".py",
   "mimetype": "text/x-python",
   "name": "python",
   "nbconvert_exporter": "python",
   "pygments_lexer": "ipython3",
   "version": "3.7.2"
  }
 },
 "nbformat": 4,
 "nbformat_minor": 2
}
